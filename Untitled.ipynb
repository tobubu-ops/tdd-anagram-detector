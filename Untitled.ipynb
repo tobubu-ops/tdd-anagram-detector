{
 "cells": [
  {
   "cell_type": "code",
   "execution_count": 1,
   "id": "51577315",
   "metadata": {},
   "outputs": [],
   "source": [
    "# Write the function into a .py file directly from the notebook\n",
    "\n",
    "code = \"\"\"\n",
    "def is_anagram(str1, str2):\n",
    "    return sorted(str1) == sorted(str2)\n",
    "\"\"\"\n",
    "\n",
    "with open(\"anagram.py\", \"w\") as f:\n",
    "    f.write(code)"
   ]
  },
  {
   "cell_type": "code",
   "execution_count": 3,
   "id": "3c46eeb4",
   "metadata": {},
   "outputs": [],
   "source": [
    "# Overwrite with improved function\n",
    "\n",
    "improved_code = \"\"\"\n",
    "def is_anagram(str1, str2):\n",
    "    str1 = str1.replace(\" \", \"\").lower()\n",
    "    str2 = str2.replace(\" \", \"\").lower()\n",
    "    return sorted(str1) == sorted(str2)\n",
    "\"\"\"\n",
    "\n",
    "with open(\"anagram.py\", \"w\") as f:\n",
    "    f.write(improved_code)"
   ]
  },
  {
   "cell_type": "code",
   "execution_count": 4,
   "id": "760f684a",
   "metadata": {},
   "outputs": [],
   "source": [
    "test_code = \"\"\"\n",
    "import unittest\n",
    "from anagram import is_anagram\n",
    "\n",
    "class TestAnagram(unittest.TestCase):\n",
    "    def test_simple_anagram(self):\n",
    "        self.assertTrue(is_anagram(\"listen\", \"silent\"))\n",
    "\n",
    "    def test_not_anagram(self):\n",
    "        self.assertFalse(is_anagram(\"hello\", \"world\"))\n",
    "\n",
    "    def test_case_insensitive(self):\n",
    "        self.assertTrue(is_anagram(\"Listen\", \"Silent\"))\n",
    "\n",
    "    def test_with_spaces(self):\n",
    "        self.assertTrue(is_anagram(\"conversation\", \"voices rant on\"))\n",
    "\"\"\"\n",
    "\n",
    "with open(\"test_anagram.py\", \"w\") as f:\n",
    "    f.write(test_code)"
   ]
  },
  {
   "cell_type": "code",
   "execution_count": null,
   "id": "16957936",
   "metadata": {},
   "outputs": [],
   "source": []
  }
 ],
 "metadata": {
  "kernelspec": {
   "display_name": "Python 3",
   "language": "python",
   "name": "python3"
  },
  "language_info": {
   "codemirror_mode": {
    "name": "ipython",
    "version": 3
   },
   "file_extension": ".py",
   "mimetype": "text/x-python",
   "name": "python",
   "nbconvert_exporter": "python",
   "pygments_lexer": "ipython3",
   "version": "3.8.8"
  }
 },
 "nbformat": 4,
 "nbformat_minor": 5
}
