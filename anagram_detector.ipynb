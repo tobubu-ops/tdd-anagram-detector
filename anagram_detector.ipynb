{
 "cells": [
  {
   "cell_type": "markdown",
   "id": "6dc7fbe5",
   "metadata": {},
   "source": [
    "# TDD Anagram Detector – Coursework Submission\n",
    "**Name:** Tobi Faulkner  \n",
    "**Course:** Intensive Foundations of Computer Science and Programming 1\n",
    "**GitHub Repo:** https://github.com/tobubu-ops/tdd-anagram-detector\n",
    "\n",
    "Introduction: This coursework demonstrates Test-Driven Development (TDD) using Python’s unittest framework. The selected problem is an Anagram Detector, which determines whether two input strings are anagrams. The process followed includes writing failing tests first (Red), implementing minimal code to pass the test (Green), and then refactoring while adding more edge cases."
   ]
  },
  {
   "cell_type": "markdown",
   "id": "150e1a76",
   "metadata": {},
   "source": [
    "First Failing Test – test_simple_anagram"
   ]
  },
  {
   "cell_type": "code",
   "execution_count": 21,
   "id": "da201b28",
   "metadata": {},
   "outputs": [],
   "source": [
    "import unittest\n",
    "from anagram import is_anagram  # This will fail as file is not created\n",
    "\n",
    "class TestAnagram(unittest.TestCase):\n",
    "    def test_simple_anagram(self):\n",
    "        self.assertTrue(is_anagram(\"listen\", \"silent\"))"
   ]
  },
  {
   "cell_type": "markdown",
   "id": "44f8ac0e",
   "metadata": {},
   "source": [
    "is_anagram() Function – First Implementation"
   ]
  },
  {
   "cell_type": "code",
   "execution_count": null,
   "id": "6d1e9064",
   "metadata": {},
   "outputs": [],
   "source": [
    "def is_anagram(str1, str2):\n",
    "    return sorted(str1) == sorted(str2)"
   ]
  },
  {
   "cell_type": "code",
   "execution_count": 6,
   "id": "eb9f349d",
   "metadata": {},
   "outputs": [
    {
     "ename": "NameError",
     "evalue": "name 'unitest' is not defined",
     "output_type": "error",
     "traceback": [
      "\u001b[0;31m---------------------------------------------------------------------------\u001b[0m",
      "\u001b[0;31mNameError\u001b[0m                                 Traceback (most recent call last)",
      "\u001b[0;32m<ipython-input-6-54b78bd3115b>\u001b[0m in \u001b[0;36m<module>\u001b[0;34m\u001b[0m\n\u001b[0;32m----> 1\u001b[0;31m \u001b[0munitest\u001b[0m\u001b[0;34m.\u001b[0m\u001b[0mmain\u001b[0m\u001b[0;34m(\u001b[0m\u001b[0margv\u001b[0m\u001b[0;34m=\u001b[0m\u001b[0;34m[\u001b[0m\u001b[0;34m''\u001b[0m\u001b[0;34m]\u001b[0m\u001b[0;34m,\u001b[0m \u001b[0mverbosity\u001b[0m\u001b[0;34m=\u001b[0m\u001b[0;36m2\u001b[0m\u001b[0;34m,\u001b[0m \u001b[0mexit\u001b[0m\u001b[0;34m=\u001b[0m\u001b[0;32mFalse\u001b[0m\u001b[0;34m)\u001b[0m\u001b[0;34m\u001b[0m\u001b[0;34m\u001b[0m\u001b[0m\n\u001b[0m",
      "\u001b[0;31mNameError\u001b[0m: name 'unitest' is not defined"
     ]
    }
   ],
   "source": [
    "unitest.main(argv=[''], verbosity=2, exit=False)"
   ]
  },
  {
   "cell_type": "code",
   "execution_count": 7,
   "id": "e8702e71",
   "metadata": {},
   "outputs": [
    {
     "name": "stderr",
     "output_type": "stream",
     "text": [
      "test_simple_anagram (__main__.TestAnagram) ... ok\n",
      "\n",
      "----------------------------------------------------------------------\n",
      "Ran 1 test in 0.001s\n",
      "\n",
      "OK\n"
     ]
    },
    {
     "data": {
      "text/plain": [
       "<unittest.main.TestProgram at 0x7fc700d40670>"
      ]
     },
     "execution_count": 7,
     "metadata": {},
     "output_type": "execute_result"
    }
   ],
   "source": [
    "unittest.main(argv=[''], verbosity=2, exit=False)"
   ]
  },
  {
   "cell_type": "code",
   "execution_count": 22,
   "id": "a7417503",
   "metadata": {},
   "outputs": [],
   "source": [
    "class TestAnagram(unittest.TestCase):\n",
    "    def test_simple_anagram(self):\n",
    "        self.assertTrue(is_anagram(\"listen\", \"silent\"))\n",
    "    \n",
    "    def test_not_anagram(self):\n",
    "        self.assertFalse(is_anagram(\"hello\", \"world\"))\n",
    "    \n",
    "    def test_case_insensitive(self):\n",
    "        self.assertTrue(is_anagram(\"Listen\", \"Silent\"))\n",
    "    \n",
    "    def test_with_spaces(self):\n",
    "        self.assertTrue(is_anagram(\"conversation\", \"voices rant on\"))"
   ]
  },
  {
   "cell_type": "markdown",
   "id": "39a91f7f",
   "metadata": {},
   "source": [
    " Refactored is_anagram() to Handle Case and Whitespace"
   ]
  },
  {
   "cell_type": "code",
   "execution_count": 23,
   "id": "cc9fbaca",
   "metadata": {},
   "outputs": [],
   "source": [
    "def is_anagram(str1, str2):\n",
    "    str1 = str1.replace(\" \", \"\").lower()\n",
    "    str2 = str2.replace(\" \", \"\").lower()\n",
    "    return sorted(str1) == sorted(str2)"
   ]
  },
  {
   "cell_type": "code",
   "execution_count": 24,
   "id": "044a30ba",
   "metadata": {},
   "outputs": [],
   "source": [
    "!git remote set-url origin https://github.com/tobubu-ops/tdd-anagram-detector.git"
   ]
  },
  {
   "cell_type": "code",
   "execution_count": 11,
   "id": "edd43d1d",
   "metadata": {},
   "outputs": [
    {
     "name": "stdout",
     "output_type": "stream",
     "text": [
      "[main 6d44722] Added anagram.py and test_anagram.py\n",
      " 8 files changed, 161 insertions(+), 439 deletions(-)\n",
      " create mode 100644 .ipynb_checkpoints/Untitled-checkpoint.ipynb\n",
      " delete mode 100644 .ipynb_checkpoints/test_anagram-checkpoint.py\n",
      " create mode 100644 Untitled.ipynb\n",
      " create mode 100644 __pycache__/anagram.cpython-38.pyc\n",
      " create mode 100644 anagram.py\n",
      "Enumerating objects: 19, done.\n",
      "Counting objects: 100% (19/19), done.\n",
      "Delta compression using up to 8 threads\n",
      "Compressing objects: 100% (19/19), done.\n",
      "Writing objects: 100% (19/19), 5.09 KiB | 2.54 MiB/s, done.\n",
      "Total 19 (delta 5), reused 0 (delta 0), pack-reused 0\n",
      "remote: Resolving deltas: 100% (5/5), done.\u001b[K\n",
      "To https://github.com/tobubu-ops/tdd-anagram-detector.git\n",
      " * [new branch]      main -> main\n",
      "branch 'main' set up to track 'origin/main'.\n"
     ]
    }
   ],
   "source": [
    "!git add .\n",
    "!git commit -m \"Added anagram.py and test_anagram.py\"\n",
    "!git push -u origin main"
   ]
  },
  {
   "cell_type": "code",
   "execution_count": null,
   "id": "a2a7ec72",
   "metadata": {},
   "outputs": [],
   "source": []
  }
 ],
 "metadata": {
  "kernelspec": {
   "display_name": "Python 3",
   "language": "python",
   "name": "python3"
  },
  "language_info": {
   "codemirror_mode": {
    "name": "ipython",
    "version": 3
   },
   "file_extension": ".py",
   "mimetype": "text/x-python",
   "name": "python",
   "nbconvert_exporter": "python",
   "pygments_lexer": "ipython3",
   "version": "3.8.8"
  }
 },
 "nbformat": 4,
 "nbformat_minor": 5
}
