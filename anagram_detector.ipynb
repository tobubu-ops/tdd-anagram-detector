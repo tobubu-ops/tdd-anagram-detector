{
 "cells": [
  {
   "cell_type": "code",
   "execution_count": 4,
   "id": "da201b28",
   "metadata": {},
   "outputs": [],
   "source": [
    "import unittest\n",
    "from anagram import is_anagram  # This will fail as file is not created\n",
    "\n",
    "class TestAnagram(unittest.TestCase):\n",
    "    def test_simple_anagram(self):\n",
    "        self.assertTrue(is_anagram(\"listen\", \"silent\"))"
   ]
  },
  {
   "cell_type": "code",
   "execution_count": 6,
   "id": "86dc95b3",
   "metadata": {},
   "outputs": [
    {
     "ename": "NameError",
     "evalue": "name 'unitest' is not defined",
     "output_type": "error",
     "traceback": [
      "\u001b[0;31m---------------------------------------------------------------------------\u001b[0m",
      "\u001b[0;31mNameError\u001b[0m                                 Traceback (most recent call last)",
      "\u001b[0;32m<ipython-input-6-54b78bd3115b>\u001b[0m in \u001b[0;36m<module>\u001b[0;34m\u001b[0m\n\u001b[0;32m----> 1\u001b[0;31m \u001b[0munitest\u001b[0m\u001b[0;34m.\u001b[0m\u001b[0mmain\u001b[0m\u001b[0;34m(\u001b[0m\u001b[0margv\u001b[0m\u001b[0;34m=\u001b[0m\u001b[0;34m[\u001b[0m\u001b[0;34m''\u001b[0m\u001b[0;34m]\u001b[0m\u001b[0;34m,\u001b[0m \u001b[0mverbosity\u001b[0m\u001b[0;34m=\u001b[0m\u001b[0;36m2\u001b[0m\u001b[0;34m,\u001b[0m \u001b[0mexit\u001b[0m\u001b[0;34m=\u001b[0m\u001b[0;32mFalse\u001b[0m\u001b[0;34m)\u001b[0m\u001b[0;34m\u001b[0m\u001b[0;34m\u001b[0m\u001b[0m\n\u001b[0m",
      "\u001b[0;31mNameError\u001b[0m: name 'unitest' is not defined"
     ]
    }
   ],
   "source": [
    "unitest.main(argv=[''], verbosity=2, exit=False)"
   ]
  },
  {
   "cell_type": "code",
   "execution_count": 7,
   "id": "6b3f677f",
   "metadata": {},
   "outputs": [
    {
     "name": "stderr",
     "output_type": "stream",
     "text": [
      "test_simple_anagram (__main__.TestAnagram) ... ok\n",
      "\n",
      "----------------------------------------------------------------------\n",
      "Ran 1 test in 0.001s\n",
      "\n",
      "OK\n"
     ]
    },
    {
     "data": {
      "text/plain": [
       "<unittest.main.TestProgram at 0x7fc700d40670>"
      ]
     },
     "execution_count": 7,
     "metadata": {},
     "output_type": "execute_result"
    }
   ],
   "source": [
    "unittest.main(argv=[''], verbosity=2, exit=False)"
   ]
  },
  {
   "cell_type": "code",
   "execution_count": 8,
   "id": "8dbe726c",
   "metadata": {},
   "outputs": [],
   "source": [
    "class TestAnagram(unittest.TestCase):\n",
    "    def test_simple_anagram(self):\n",
    "        self.assertTrue(is_anagram(\"listen\", \"silent\"))\n",
    "    \n",
    "    def test_not_anagram(self):\n",
    "        self.assertFalse(is_anagram(\"hello\", \"world\"))\n",
    "    \n",
    "    def test_case_insensitive(self):\n",
    "        self.assertTrue(is_anagram(\"Listen\", \"Silent\"))\n",
    "    \n",
    "    def test_with_spaces(self):\n",
    "        self.assertTrue(is_anagram(\"conversation\", \"voices rant on\"))"
   ]
  },
  {
   "cell_type": "code",
   "execution_count": null,
   "id": "ba91ba85",
   "metadata": {},
   "outputs": [],
   "source": []
  }
 ],
 "metadata": {
  "kernelspec": {
   "display_name": "Python 3",
   "language": "python",
   "name": "python3"
  },
  "language_info": {
   "codemirror_mode": {
    "name": "ipython",
    "version": 3
   },
   "file_extension": ".py",
   "mimetype": "text/x-python",
   "name": "python",
   "nbconvert_exporter": "python",
   "pygments_lexer": "ipython3",
   "version": "3.8.8"
  }
 },
 "nbformat": 4,
 "nbformat_minor": 5
}
