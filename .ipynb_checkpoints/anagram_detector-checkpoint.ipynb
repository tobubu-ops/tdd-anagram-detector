{
 "cells": [
  {
   "cell_type": "code",
   "execution_count": 2,
   "id": "d43b70b1",
   "metadata": {},
   "outputs": [
    {
     "ename": "ModuleNotFoundError",
     "evalue": "No module named 'anagram'",
     "output_type": "error",
     "traceback": [
      "\u001b[0;31m---------------------------------------------------------------------------\u001b[0m",
      "\u001b[0;31mModuleNotFoundError\u001b[0m                       Traceback (most recent call last)",
      "\u001b[0;32m<ipython-input-2-5a1f03fb6be8>\u001b[0m in \u001b[0;36m<module>\u001b[0;34m\u001b[0m\n\u001b[1;32m      1\u001b[0m \u001b[0;32mimport\u001b[0m \u001b[0munittest\u001b[0m\u001b[0;34m\u001b[0m\u001b[0;34m\u001b[0m\u001b[0m\n\u001b[0;32m----> 2\u001b[0;31m \u001b[0;32mfrom\u001b[0m \u001b[0managram\u001b[0m \u001b[0;32mimport\u001b[0m \u001b[0mis_anagram\u001b[0m  \u001b[0;31m# This will fail initially\u001b[0m\u001b[0;34m\u001b[0m\u001b[0;34m\u001b[0m\u001b[0m\n\u001b[0m\u001b[1;32m      3\u001b[0m \u001b[0;34m\u001b[0m\u001b[0m\n\u001b[1;32m      4\u001b[0m \u001b[0;32mclass\u001b[0m \u001b[0mTestAnagram\u001b[0m\u001b[0;34m(\u001b[0m\u001b[0munittest\u001b[0m\u001b[0;34m.\u001b[0m\u001b[0mTestCase\u001b[0m\u001b[0;34m)\u001b[0m\u001b[0;34m:\u001b[0m\u001b[0;34m\u001b[0m\u001b[0;34m\u001b[0m\u001b[0m\n\u001b[1;32m      5\u001b[0m     \u001b[0;32mdef\u001b[0m \u001b[0mtest_simple_anagram\u001b[0m\u001b[0;34m(\u001b[0m\u001b[0mself\u001b[0m\u001b[0;34m)\u001b[0m\u001b[0;34m:\u001b[0m\u001b[0;34m\u001b[0m\u001b[0;34m\u001b[0m\u001b[0m\n",
      "\u001b[0;31mModuleNotFoundError\u001b[0m: No module named 'anagram'"
     ]
    }
   ],
   "source": [
    "import unittest\n",
    "from anagram import is_anagram  # This will fail initially\n",
    "\n",
    "class TestAnagram(unittest.TestCase):\n",
    "    def test_simple_anagram(self):\n",
    "        self.assertTrue(is_anagram(\"listen\", \"silent\"))"
   ]
  },
  {
   "cell_type": "code",
   "execution_count": 3,
   "id": "681eb11d",
   "metadata": {},
   "outputs": [],
   "source": [
    "# anagram.py\n",
    "def is_anagram(str1, str2):\n",
    "    return sorted(str1) == sorted(str2)"
   ]
  },
  {
   "cell_type": "code",
   "execution_count": 4,
   "id": "7462828c",
   "metadata": {},
   "outputs": [
    {
     "name": "stderr",
     "output_type": "stream",
     "text": [
      "\n",
      "----------------------------------------------------------------------\n",
      "Ran 0 tests in 0.000s\n",
      "\n",
      "OK\n"
     ]
    },
    {
     "data": {
      "text/plain": [
       "<unittest.main.TestProgram at 0x7fa1d8039250>"
      ]
     },
     "execution_count": 4,
     "metadata": {},
     "output_type": "execute_result"
    }
   ],
   "source": [
    "import unittest\n",
    "unittest.main(argv=[''], verbosity=2, exit=False)"
   ]
  },
  {
   "cell_type": "code",
   "execution_count": null,
   "id": "1cadb2fc",
   "metadata": {},
   "outputs": [],
   "source": [
    "class TestAnagram(unittest.TestCase):\n",
    "    def test_simple_anagram(self):\n",
    "        self.assertTrue(is_anagram(\"listen\", \"silent\"))\n",
    "\n",
    "    def test_not_anagram(self):\n",
    "        self.assertFalse(is_anagram(\"hello\", \"world\"))\n",
    "\n",
    "    def test_case_insensitive(self):\n",
    "        self.assertTrue(is_anagram(\"Listen\", \"Silent\"))\n",
    "\n",
    "    def test_with_spaces(self):\n",
    "        self.assertTrue(is_anagram(\"conversation\", \"voices rant on\"))"
   ]
  },
  {
   "cell_type": "code",
   "execution_count": 5,
   "id": "9010937a",
   "metadata": {},
   "outputs": [],
   "source": [
    "def is_anagram(str1, str2):\n",
    "    str1 = str1.replace(\" \", \"\").lower()\n",
    "    str2 = str2.replace(\" \", \"\").lower()\n",
    "    return sorted(str1) == sorted(str2)"
   ]
  },
  {
   "cell_type": "code",
   "execution_count": 8,
   "id": "3f5bc59d",
   "metadata": {},
   "outputs": [
    {
     "name": "stdout",
     "output_type": "stream",
     "text": [
      "fatal: not a git repository (or any of the parent directories): .git\r\n"
     ]
    }
   ],
   "source": [
    "!git remote set-url origin https://github.com/tobubu-ops/tdd-anagram-detector.git"
   ]
  },
  {
   "cell_type": "code",
   "execution_count": null,
   "id": "77375ae5",
   "metadata": {},
   "outputs": [],
   "source": [
    "!git remote set-url origin https://github.com/tobubu-ops/tdd-anagram-detector.git"
   ]
  },
  {
   "cell_type": "code",
   "execution_count": 10,
   "id": "f0ef86a7",
   "metadata": {},
   "outputs": [
    {
     "name": "stdout",
     "output_type": "stream",
     "text": [
      "fatal: not a git repository (or any of the parent directories): .git\n",
      "fatal: not a git repository (or any of the parent directories): .git\n",
      "fatal: not a git repository (or any of the parent directories): .git\n"
     ]
    }
   ],
   "source": [
    "!git add test_anagram.py anagram.py\n",
    "!git commit -m \"Fix: Ensure correct test file and structure\"\n",
    "!git push"
   ]
  },
  {
   "cell_type": "code",
   "execution_count": null,
   "id": "487e0854",
   "metadata": {},
   "outputs": [],
   "source": []
  }
 ],
 "metadata": {
  "kernelspec": {
   "display_name": "Python 3",
   "language": "python",
   "name": "python3"
  },
  "language_info": {
   "codemirror_mode": {
    "name": "ipython",
    "version": 3
   },
   "file_extension": ".py",
   "mimetype": "text/x-python",
   "name": "python",
   "nbconvert_exporter": "python",
   "pygments_lexer": "ipython3",
   "version": "3.8.8"
  }
 },
 "nbformat": 4,
 "nbformat_minor": 5
}
